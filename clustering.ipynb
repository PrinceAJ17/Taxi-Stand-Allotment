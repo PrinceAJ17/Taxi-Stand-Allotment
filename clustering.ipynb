{
 "cells": [
  {
   "cell_type": "code",
   "execution_count": 1,
   "id": "94383b72-70a0-4b51-b075-e97ddf3de55e",
   "metadata": {
    "ExecutionIndicator": {
     "show": true
    },
    "execution": {
     "iopub.execute_input": "2024-10-09T07:54:37.089941Z",
     "iopub.status.busy": "2024-10-09T07:54:37.089063Z",
     "iopub.status.idle": "2024-10-09T07:54:38.325561Z",
     "shell.execute_reply": "2024-10-09T07:54:38.324583Z",
     "shell.execute_reply.started": "2024-10-09T07:54:37.089910Z"
    },
    "tags": []
   },
   "outputs": [],
   "source": [
    "from sklearn.cluster import KMeans\n",
    "from geopy.distance import geodesic\n",
    "import pandas as pd\n",
    "import matplotlib.pyplot as plt"
   ]
  },
  {
   "cell_type": "code",
   "execution_count": 2,
   "id": "7e6a7b65-1d00-44ab-92c7-034da5dc958d",
   "metadata": {
    "execution": {
     "iopub.execute_input": "2024-10-09T07:45:57.038044Z",
     "iopub.status.busy": "2024-10-09T07:45:57.037325Z",
     "iopub.status.idle": "2024-10-09T07:45:58.601963Z",
     "shell.execute_reply": "2024-10-09T07:45:58.600781Z",
     "shell.execute_reply.started": "2024-10-09T07:45:57.038012Z"
    },
    "tags": []
   },
   "outputs": [],
   "source": [
    "# Load your taxi and taxi stand data\n",
    "taxi_data = pd.read_csv('anonymized-taxi-data.csv')\n",
    "taxi_stand_data = pd.read_excel('TaxiRanks.xlsx')"
   ]
  },
  {
   "cell_type": "code",
   "execution_count": 3,
   "id": "b9d7785a-dd4c-4922-81fa-92d1738e4dd2",
   "metadata": {
    "execution": {
     "iopub.execute_input": "2024-10-09T07:46:08.786372Z",
     "iopub.status.busy": "2024-10-09T07:46:08.785653Z",
     "iopub.status.idle": "2024-10-09T07:46:09.621160Z",
     "shell.execute_reply": "2024-10-09T07:46:09.620160Z",
     "shell.execute_reply.started": "2024-10-09T07:46:08.786343Z"
    },
    "tags": []
   },
   "outputs": [],
   "source": [
    "# Extract pick-up locations (StartLat, StartLon)\n",
    "pickup_coords = taxi_data[['StartLat', 'StartLon']].dropna()\n",
    "\n",
    "# Clustering high-demand areas\n",
    "kmeans = KMeans(n_clusters=50, random_state=42).fit(pickup_coords)\n",
    "pickup_coords['Cluster'] = kmeans.labels_"
   ]
  },
  {
   "cell_type": "code",
   "execution_count": 4,
   "id": "cbc11399-512d-4bf6-8e4b-340b9717d414",
   "metadata": {
    "execution": {
     "iopub.execute_input": "2024-10-09T07:46:25.177380Z",
     "iopub.status.busy": "2024-10-09T07:46:25.176603Z",
     "iopub.status.idle": "2024-10-09T07:46:25.182064Z",
     "shell.execute_reply": "2024-10-09T07:46:25.181202Z",
     "shell.execute_reply.started": "2024-10-09T07:46:25.177349Z"
    },
    "tags": []
   },
   "outputs": [],
   "source": [
    "# Function to calculate the distance to the nearest taxi stand\n",
    "def distance_to_nearest_stand(cluster_center, taxi_stands):\n",
    "    distances = taxi_stands.apply(lambda row: geodesic(cluster_center, (row['Latitude'], row['Longitude'])).meters, axis=1)\n",
    "    return distances.min()"
   ]
  },
  {
   "cell_type": "code",
   "execution_count": 5,
   "id": "96965ec9-01d5-49b8-9998-b4b91ff87955",
   "metadata": {
    "execution": {
     "iopub.execute_input": "2024-10-09T07:46:34.452002Z",
     "iopub.status.busy": "2024-10-09T07:46:34.451288Z",
     "iopub.status.idle": "2024-10-09T07:46:36.959912Z",
     "shell.execute_reply": "2024-10-09T07:46:36.958834Z",
     "shell.execute_reply.started": "2024-10-09T07:46:34.451972Z"
    },
    "tags": []
   },
   "outputs": [],
   "source": [
    "# Calculate cluster centers\n",
    "cluster_centers = kmeans.cluster_centers_\n",
    "taxi_stands = taxi_stand_data[['Latitude', 'Longitude']]\n",
    "\n",
    "# Check each cluster for proximity to nearest taxi stand\n",
    "high_demand_clusters = []\n",
    "for i, center in enumerate(cluster_centers):\n",
    "    dist = distance_to_nearest_stand(center, taxi_stands)\n",
    "    if dist > 500:  # Threshold of 500 meters\n",
    "        high_demand_clusters.append(i)\n",
    "\n",
    "# Label clusters as high-demand or covered\n",
    "pickup_coords['Label'] = pickup_coords['Cluster'].apply(lambda x: 'High-demand without taxi stand' if x in high_demand_clusters else 'Low-demand or covered')"
   ]
  },
  {
   "cell_type": "code",
   "execution_count": 6,
   "id": "e630b0ad-676f-463b-8ae9-7d3bdf2c7966",
   "metadata": {
    "execution": {
     "iopub.execute_input": "2024-10-09T08:01:17.855005Z",
     "iopub.status.busy": "2024-10-09T08:01:17.854529Z",
     "iopub.status.idle": "2024-10-09T08:01:18.652999Z",
     "shell.execute_reply": "2024-10-09T08:01:18.652093Z",
     "shell.execute_reply.started": "2024-10-09T08:01:17.854973Z"
    },
    "tags": []
   },
   "outputs": [],
   "source": [
    "pickup_coords.to_csv('taxi-training-data.csv',index=False)"
   ]
  }
 ],
 "metadata": {
  "kernelspec": {
   "display_name": "base",
   "language": "python",
   "name": "python3"
  },
  "language_info": {
   "codemirror_mode": {
    "name": "ipython",
    "version": 3
   },
   "file_extension": ".py",
   "mimetype": "text/x-python",
   "name": "python",
   "nbconvert_exporter": "python",
   "pygments_lexer": "ipython3",
   "version": "3.12.3"
  }
 },
 "nbformat": 4,
 "nbformat_minor": 5
}
